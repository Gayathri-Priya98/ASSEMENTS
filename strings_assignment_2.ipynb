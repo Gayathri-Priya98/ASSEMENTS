{
  "nbformat": 4,
  "nbformat_minor": 0,
  "metadata": {
    "colab": {
      "provenance": []
    },
    "kernelspec": {
      "name": "python3",
      "display_name": "Python 3"
    },
    "language_info": {
      "name": "python"
    }
  },
  "cells": [
    {
      "cell_type": "markdown",
      "source": [
        "## Strings Assignment 2"
      ],
      "metadata": {
        "id": "EPGLodluvWuN"
      }
    },
    {
      "cell_type": "markdown",
      "source": [
        "1.Write a Python program to reverse a string.\n",
        "\n",
        "input : hellohowareyoudoingandhowisyourhealth"
      ],
      "metadata": {
        "id": "ddM5gMtivkoi"
      }
    },
    {
      "cell_type": "code",
      "source": [
        "def rev_string(input):\n",
        "    return input[::-1]\n",
        "input_string = input(\"Enter a string to reverse: \")\n",
        "rev_string = rev_string(input_string)\n",
        "print(\"Reversed string:\", rev_string)"
      ],
      "metadata": {
        "id": "RnP576ZZvtLH",
        "colab": {
          "base_uri": "https://localhost:8080/"
        },
        "outputId": "bf5ac4c1-0299-43a3-bdc1-818a294c4cc1"
      },
      "execution_count": 2,
      "outputs": [
        {
          "output_type": "stream",
          "name": "stdout",
          "text": [
            "Enter a string to reverse:  hellohowareyoudoingandhowisyourhealth\n",
            "Reversed string: htlaehruoysiwohdnagnioduoyerawoholleh \n"
          ]
        }
      ]
    },
    {
      "cell_type": "markdown",
      "source": [
        "2.Write a Python program to capitalize the first letter of each word in a sentence.\n",
        "\n",
        "input : hello welcome to internship"
      ],
      "metadata": {
        "id": "jEVFoo3evnhr"
      }
    },
    {
      "cell_type": "code",
      "source": [
        "def cap_words(sentence):\n",
        "    return sentence.title()\n",
        "input_sentence = \"hello welcome to internship\"\n",
        "capitalized_sentence = cap_words(input_sentence)\n",
        "print( capitalized_sentence)\n"
      ],
      "metadata": {
        "id": "CTP3QwiGwT93",
        "colab": {
          "base_uri": "https://localhost:8080/"
        },
        "outputId": "668f0183-b5bb-4692-bd44-b3d33b027e62"
      },
      "execution_count": 3,
      "outputs": [
        {
          "output_type": "stream",
          "name": "stdout",
          "text": [
            "Hello Welcome To Internship\n"
          ]
        }
      ]
    },
    {
      "cell_type": "markdown",
      "source": [
        "3.Write a Python program to find the longest word in a sentence.\n",
        "\n",
        "input : \"he is very good at painting and paint good sketches\""
      ],
      "metadata": {
        "id": "LiGvyCoVvnyC"
      }
    },
    {
      "cell_type": "code",
      "source": [
        "def long(sentence):\n",
        "  words = sentence.split()\n",
        "  longest = max(words, key=len)\n",
        "  return longest\n",
        "input = \"he is very good at painting and paint good sketches\"\n",
        "longest = long(input)\n",
        "print(longest)"
      ],
      "metadata": {
        "id": "clATuC3cwwPI",
        "colab": {
          "base_uri": "https://localhost:8080/"
        },
        "outputId": "67ab85f9-7111-49b3-fa68-363f784008f3"
      },
      "execution_count": 7,
      "outputs": [
        {
          "output_type": "stream",
          "name": "stdout",
          "text": [
            "painting\n"
          ]
        }
      ]
    },
    {
      "cell_type": "markdown",
      "source": [
        "4.Write a Python program to find the length of the last word in a sentence.\n",
        "\n",
        "input : this is the most beautiful beach I ever visited"
      ],
      "metadata": {
        "id": "-QhCplQjvn0w"
      }
    },
    {
      "cell_type": "code",
      "source": [
        "def length_of_last_word(sentence):\n",
        "    words = sentence.split()\n",
        "    if words:\n",
        "        return len(words[-1])\n",
        "    return 0\n",
        "input_sentence = \"this is the most beautiful beach I ever visited\"\n",
        "last_word_length = length_of_last_word(input_sentence)\n",
        "print(last_word_length)"
      ],
      "metadata": {
        "id": "QwzbahlkxGZ-",
        "colab": {
          "base_uri": "https://localhost:8080/"
        },
        "outputId": "48f8e05b-16e1-4fdc-97be-a99b32b83baf"
      },
      "execution_count": 8,
      "outputs": [
        {
          "output_type": "stream",
          "name": "stdout",
          "text": [
            "7\n"
          ]
        }
      ]
    },
    {
      "cell_type": "markdown",
      "source": [
        "5.Write a Python program to find the second most frequent character in a string.\n",
        "\n",
        "input: the hospital is very big and this hospital has so many doctors"
      ],
      "metadata": {
        "id": "cZiXxZhsvn6q"
      }
    },
    {
      "cell_type": "code",
      "source": [
        "from collections import Counter\n",
        "def second_most_frequent(string):\n",
        "    freq = Counter(string.replace(\" \", \"\"))\n",
        "    return sorted(freq, key=freq.get, reverse=True)[1]\n",
        "input_string = \"the hospital is very big and this hospital has so many doctors\"\n",
        "print(\"Second most frequent character:\", second_most_frequent(input_string))"
      ],
      "metadata": {
        "id": "EnHquuoCxi7F",
        "colab": {
          "base_uri": "https://localhost:8080/"
        },
        "outputId": "f7ad841a-ca68-46b1-8a53-b6e4abd573a9"
      },
      "execution_count": 9,
      "outputs": [
        {
          "output_type": "stream",
          "name": "stdout",
          "text": [
            "Second most frequent character: t\n"
          ]
        }
      ]
    }
  ]
}